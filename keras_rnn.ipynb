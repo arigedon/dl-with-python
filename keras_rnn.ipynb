{
 "cells": [
  {
   "cell_type": "markdown",
   "metadata": {},
   "source": [
    "# Python と Keras によるディープラーニング\n",
    "\n",
    "- Guthub: https://github.com/fchollet/deep-learning-with-python-notebooks\n",
    "- 原著： https://livebook.manning.com/#!/book/deep-learning-with-python/about-this-book/\n",
    "\n",
    "## 6章　テキストとシーケンスのためのディープラーニング"
   ]
  },
  {
   "cell_type": "markdown",
   "metadata": {},
   "source": [
    "## 6.2 リカレントニューラルネットワーク（RNN）を理解する\n",
    "\n",
    "- ポイント:\n",
    "    - 入力と1つ前の出力を結合して現在の出力を取得する\n",
    "    - Numpy で実装すると、RNN はループの1つ前のイテレーションで計算された数値を再利用する for ループである。\n",
    "    - よって、出力テンソルの時間刻み t にはそれぞれ、入力シーケンスでの時間刻み0から t に関する情報（過去全体の情報）が含まれている。"
   ]
  },
  {
   "cell_type": "code",
   "execution_count": null,
   "metadata": {
    "collapsed": true
   },
   "outputs": [],
   "source": [
    "# 擬似コードでの RNN\n",
    "state_t = 0   # 時間tでの状態\n",
    "for input_t in input_sequence:  # シーケンスの要素をループ\n",
    "    output_t = f(input_t, state_t)  # この1つ前の出力が\n",
    "    state_t = output_t  # 次のイテレーションの状態になる"
   ]
  },
  {
   "cell_type": "code",
   "execution_count": null,
   "metadata": {
    "collapsed": true
   },
   "outputs": [],
   "source": [
    "# RNN のより詳細な擬似コード\n",
    "state_t = 0   \n",
    "for input_t in input_sequence:  \n",
    "    output_t = activation(dot(W, input_t) + dot(U, state_t) + b)\n",
    "    state_t = output_t  "
   ]
  },
  {
   "cell_type": "code",
   "execution_count": 5,
   "metadata": {},
   "outputs": [],
   "source": [
    "# 単純な RNN の NumPy の実装\n",
    "import numpy as np\n",
    "\n",
    "timesteps = 100        # 入力シーケンスの時間刻みの数\n",
    "input_features = 32     # 入力特徴空間の次元の数\n",
    "output_features = 64  # 出力特徴空間の次元の数\n",
    "\n",
    "# 入力データ：ランダムにノイズを挿入\n",
    "inputs = np.random.random((timesteps, input_features))\n",
    "\n",
    "# 初期状態：すべて0のベクトル\n",
    "state_t = np.zeros((output_features, ))\n",
    "\n",
    "# ランダムな重み行列を作成\n",
    "W = np.random.random((output_features, input_features))\n",
    "U = np.random.random((output_features, output_features))\n",
    "b = np.random.random((output_features, ))\n",
    "\n",
    "successive_outputs = []\n",
    "\n",
    "# input_t は形状が (input_features, ) のベクトル\n",
    "for i, input_t in enumerate(inputs):\n",
    "    # 入力と現在の状態（1つ前の出力）を結合して現在の出力を取得\n",
    "    output_t = np.tanh(np.dot(W, input_t) + np.dot(U, state_t) + b)\n",
    "    # この出力をリストを格納\n",
    "    successive_outputs.append(output_t)\n",
    "    # 次の時間刻みのためにRNNの状態を更新\n",
    "    state_t = output_t\n",
    "    \n",
    "# 最終的な出力は形状が (timesteps, output_features) の2次元テンソル\n",
    "final_output_sequence = np.stack(successive_outputs, axis=0)"
   ]
  },
  {
   "cell_type": "markdown",
   "metadata": {},
   "source": [
    "### 6.2.1 Keras でのリカレント層\n",
    "\n",
    "- RNN のフォワードパスは、 Keras の実際の層、具体的には、 SimpleRNN に相当する。\n",
    "    - ```from keras.layers import SimpleRNN```\n",
    "    \n",
    "- Keras のすべてのリカレント層と同様に、 SimpleRNN も2種類のモードで実行できる。\n",
    "    - 一方のモードでは、各時間刻みの出力が順番に含まれた完全なシーケンスを返す。\n",
    "        - 形状が (batch_size, timesteps, output_features) の３次元テンソル\n",
    "    - もう一方のモードでは、各入力シーケンスの最後の出力だけを返す。\n",
    "        - 形状が (batch_size, output_features) の2次元テンソル\n",
    "        \n",
    "- これら2つのモードは、コンストラクタの return_sequences パラメータによって制御される。"
   ]
  },
  {
   "cell_type": "code",
   "execution_count": 7,
   "metadata": {},
   "outputs": [
    {
     "name": "stderr",
     "output_type": "stream",
     "text": [
      "/Users/takayukiishikawa/anaconda/envs/kaggle/lib/python3.6/site-packages/h5py/__init__.py:36: FutureWarning: Conversion of the second argument of issubdtype from `float` to `np.floating` is deprecated. In future, it will be treated as `np.float64 == np.dtype(float).type`.\n",
      "  from ._conv import register_converters as _register_converters\n",
      "Using TensorFlow backend.\n"
     ]
    },
    {
     "name": "stdout",
     "output_type": "stream",
     "text": [
      "_________________________________________________________________\n",
      "Layer (type)                 Output Shape              Param #   \n",
      "=================================================================\n",
      "embedding_1 (Embedding)      (None, None, 32)          320000    \n",
      "_________________________________________________________________\n",
      "simple_rnn_1 (SimpleRNN)     (None, 32)                2080      \n",
      "=================================================================\n",
      "Total params: 322,080\n",
      "Trainable params: 322,080\n",
      "Non-trainable params: 0\n",
      "_________________________________________________________________\n"
     ]
    }
   ],
   "source": [
    "# 最後の時間刻みの出力だけが返される\n",
    "from keras.models import Sequential\n",
    "from keras.layers import Embedding, SimpleRNN\n",
    "\n",
    "model = Sequential()\n",
    "model.add(Embedding(10000, 32))\n",
    "model.add(SimpleRNN(32))\n",
    "model.summary()"
   ]
  },
  {
   "cell_type": "code",
   "execution_count": 8,
   "metadata": {},
   "outputs": [
    {
     "name": "stdout",
     "output_type": "stream",
     "text": [
      "_________________________________________________________________\n",
      "Layer (type)                 Output Shape              Param #   \n",
      "=================================================================\n",
      "embedding_2 (Embedding)      (None, None, 32)          320000    \n",
      "_________________________________________________________________\n",
      "simple_rnn_2 (SimpleRNN)     (None, None, 32)          2080      \n",
      "=================================================================\n",
      "Total params: 322,080\n",
      "Trainable params: 322,080\n",
      "Non-trainable params: 0\n",
      "_________________________________________________________________\n"
     ]
    }
   ],
   "source": [
    "# 完全な状態を表すシーケンスが返される\n",
    "model = Sequential()\n",
    "model.add(Embedding(10000, 32))\n",
    "model.add(SimpleRNN(32, return_sequences=True))\n",
    "model.summary()"
   ]
  },
  {
   "cell_type": "code",
   "execution_count": 9,
   "metadata": {},
   "outputs": [
    {
     "name": "stdout",
     "output_type": "stream",
     "text": [
      "_________________________________________________________________\n",
      "Layer (type)                 Output Shape              Param #   \n",
      "=================================================================\n",
      "embedding_3 (Embedding)      (None, None, 32)          320000    \n",
      "_________________________________________________________________\n",
      "simple_rnn_3 (SimpleRNN)     (None, None, 32)          2080      \n",
      "_________________________________________________________________\n",
      "simple_rnn_4 (SimpleRNN)     (None, None, 32)          2080      \n",
      "_________________________________________________________________\n",
      "simple_rnn_5 (SimpleRNN)     (None, None, 32)          2080      \n",
      "_________________________________________________________________\n",
      "simple_rnn_6 (SimpleRNN)     (None, 32)                2080      \n",
      "=================================================================\n",
      "Total params: 328,320\n",
      "Trainable params: 328,320\n",
      "Non-trainable params: 0\n",
      "_________________________________________________________________\n"
     ]
    }
   ],
   "source": [
    "# 場合によっては、複数のリカレント層を順番に積み重ねていくと、ネットワークの表現力を高めるのに役立つことがある。\n",
    "# このような設定で完全な出力シーケンスを取得するには、中間の層の出力をすべて取得する必要がある。\n",
    "model = Sequential()\n",
    "model.add(Embedding(10000, 32))\n",
    "model.add(SimpleRNN(32, return_sequences=True))\n",
    "model.add(SimpleRNN(32, return_sequences=True))\n",
    "model.add(SimpleRNN(32, return_sequences=True))\n",
    "model.add(SimpleRNN(32))  # 最後の層は最後の出力を返すだけ\n",
    "model.summary()"
   ]
  },
  {
   "cell_type": "markdown",
   "metadata": {},
   "source": [
    "### 6.2.2 LSTM 層と GRU 層\n",
    "\n",
    "- SimpleRNN では、実際には、長期間の依存家計を学習することは不可能：　勾配消失問題\n",
    "    - ネットワークに層を追加し続けていくと、最終的にそのネットワークは訓練不可能となる。\n",
    "    \n",
    "- LSTM層：　この層のもとになっているのは長短期記憶（Long Short-Term Memory: LSTM）アルゴリズム\n",
    "\n",
    "- "
   ]
  },
  {
   "cell_type": "code",
   "execution_count": null,
   "metadata": {
    "collapsed": true
   },
   "outputs": [],
   "source": []
  },
  {
   "cell_type": "markdown",
   "metadata": {},
   "source": [
    "### 6.2.3 Keras での LSTM の具体的な例"
   ]
  },
  {
   "cell_type": "code",
   "execution_count": null,
   "metadata": {
    "collapsed": true
   },
   "outputs": [],
   "source": []
  },
  {
   "cell_type": "markdown",
   "metadata": {},
   "source": [
    "### 6.2.4 まとめ"
   ]
  },
  {
   "cell_type": "code",
   "execution_count": null,
   "metadata": {
    "collapsed": true
   },
   "outputs": [],
   "source": []
  },
  {
   "cell_type": "markdown",
   "metadata": {},
   "source": [
    "## 6.3 RNN の高度な使い方\n",
    "\n",
    "- RNNの性能と汎化力を向上させる高度な手法を3つ紹介する\n",
    "    - リカレントドロップアウト\n",
    "        - リカレント層でドロップアウトを使って過学習に対抗するための組み込みの手法\n",
    "    - リカレント層のスタッキング\n",
    "        - （計算不可が高くなることと引き換えに）ネットワークの表現力を高める手法\n",
    "    - 双方向のリカレント層\n",
    "        - 同じ情報を様々な手法で RNN に提供することで、正解率を向上させ、忘却の問題に対処する手法"
   ]
  },
  {
   "cell_type": "markdown",
   "metadata": {},
   "source": [
    "### 6.3.1 気温予測問題\n",
    "\n",
    "- ドイツのイエナにある Max Planck Institute for Biogeochemistry の観測所で記録された希少時系列データセットを使用する\n",
    "    - https://www.bgc-jena.mpg.de/wetter/\n",
    "    \n",
    "- このデータセットは、14種類の数値（気温、気圧、湿度、風向など）を10分おきに記録した数年分のデータで構成されている\n",
    "\n",
    "- このデータセットを使用して、最近のデータ（数日分のデータ点）を入力として受け取り、24時間後の気温の予測するモデルを構築する"
   ]
  },
  {
   "cell_type": "code",
   "execution_count": 14,
   "metadata": {},
   "outputs": [
    {
     "name": "stdout",
     "output_type": "stream",
     "text": [
      "mkdir: dataset: File exists\n",
      "--2018-10-26 14:21:43--  https://s3.amazonaws.com/keras-datasets/jena_climate_2009_2016.csv.zip\n",
      "s3.amazonaws.com (s3.amazonaws.com) をDNSに問いあわせています... 52.216.161.5\n",
      "s3.amazonaws.com (s3.amazonaws.com)|52.216.161.5|:443 に接続しています... 接続しました。\n",
      "HTTP による接続要求を送信しました、応答を待っています... 200 OK\n",
      "長さ: 13568290 (13M) [application/zip]\n",
      "`jena_climate_2009_2016.csv.zip' に保存中\n",
      "\n",
      "jena_climate_2009_2 100%[===================>]  12.94M  4.25MB/s 時間 3.0s       \n",
      "\n",
      "2018-10-26 14:21:47 (4.25 MB/s) - `jena_climate_2009_2016.csv.zip' へ保存完了 [13568290/13568290]\n",
      "\n",
      "Archive:  jena_climate_2009_2016.csv.zip\n",
      "  inflating: jena_climate_2009_2016.csv  \n"
     ]
    }
   ],
   "source": [
    "# ! mkdir dataset\n",
    "# ! cd dataset && wget https://s3.amazonaws.com/keras-datasets/jena_climate_2009_2016.csv.zip && unzip jena_climate_2009_2016.csv.zip"
   ]
  },
  {
   "cell_type": "code",
   "execution_count": 1,
   "metadata": {},
   "outputs": [
    {
     "name": "stdout",
     "output_type": "stream",
     "text": [
      "['\"Date Time\"', '\"p (mbar)\"', '\"T (degC)\"', '\"Tpot (K)\"', '\"Tdew (degC)\"', '\"rh (%)\"', '\"VPmax (mbar)\"', '\"VPact (mbar)\"', '\"VPdef (mbar)\"', '\"sh (g/kg)\"', '\"H2OC (mmol/mol)\"', '\"rho (g/m**3)\"', '\"wv (m/s)\"', '\"max. wv (m/s)\"', '\"wd (deg)\"']\n",
      "420551\n"
     ]
    }
   ],
   "source": [
    "import os\n",
    "\n",
    "data_dir = \"dataset\"\n",
    "fname = os.path.join(data_dir, \"jena_climate_2009_2016.csv\")\n",
    "\n",
    "f = open(fname)\n",
    "data = f.read()\n",
    "f.close()\n",
    "\n",
    "lines = data.split(\"\\n\")\n",
    "header = lines[0].split(\",\")\n",
    "lines = lines[1:]\n",
    "\n",
    "print(header)\n",
    "print(len(lines))"
   ]
  },
  {
   "cell_type": "code",
   "execution_count": 2,
   "metadata": {},
   "outputs": [
    {
     "data": {
      "text/plain": [
       "array([ 9.96520e+02, -8.02000e+00,  2.65400e+02, -8.90000e+00,\n",
       "        9.33000e+01,  3.33000e+00,  3.11000e+00,  2.20000e-01,\n",
       "        1.94000e+00,  3.12000e+00,  1.30775e+03,  1.03000e+00,\n",
       "        1.75000e+00,  1.52300e+02])"
      ]
     },
     "execution_count": 2,
     "metadata": {},
     "output_type": "execute_result"
    }
   ],
   "source": [
    "import numpy as np\n",
    "\n",
    "float_data = np.zeros((len(lines), len(header)-1))\n",
    "for i, line in enumerate(lines):\n",
    "    values = [float(x) for x in line.split(',')[1:]]\n",
    "    float_data[i, :] = values\n",
    "\n",
    "float_data[0]"
   ]
  },
  {
   "cell_type": "code",
   "execution_count": 3,
   "metadata": {},
   "outputs": [
    {
     "data": {
      "image/png": "[encoded data removed]",
      "text/plain": [
       "<Figure size 720x360 with 1 Axes>"
      ]
     },
     "metadata": {},
     "output_type": "display_data"
    }
   ],
   "source": [
    "%matplotlib inline\n",
    "import  matplotlib.pyplot as plt \n",
    "\n",
    "temp = float_data[:, 1]  # 気温（摂氏）\n",
    "\n",
    "plt.figure(figsize=(10,5))\n",
    "plt.plot(range(len(temp)), temp)\n",
    "plt.title(\"データセットの記録期間全体の気温\")\n",
    "plt.show()"
   ]
  },
  {
   "cell_type": "code",
   "execution_count": 4,
   "metadata": {},
   "outputs": [
    {
     "data": {
      "image/png": "[encoded data removed]",
      "text/plain": [
       "<Figure size 720x360 with 1 Axes>"
      ]
     },
     "metadata": {},
     "output_type": "display_data"
    }
   ],
   "source": [
    "plt.figure(figsize=(10,5))\n",
    "plt.plot(range(1440), temp[:1440])\n",
    "plt.title(\"最初の10日間の気温（摂氏）\")\n",
    "plt.show()"
   ]
  },
  {
   "cell_type": "markdown",
   "metadata": {},
   "source": [
    "特に最後の4日間については、24時間単位の周期性が見られる。  \n",
    "この10日間のデータは冬のかなり寒い時期のものだろう。  \n",
    "年単位の周期性はありそうなので、数カ月分のデータに基づいて次の月の平均気温の予測は簡単そうだ。  \n",
    "一方で、**数日間のデータを調べると気温の変化がかなり激しい**ことから、**この時系列データを24時間（1日）単位で予測することは可能なのか**調べてみることにする。"
   ]
  },
  {
   "cell_type": "markdown",
   "metadata": {},
   "source": [
    "### 6.3.2 データの準備\n",
    "\n",
    "この問題を定式化すると、次のようになる。*lookback* 時間刻み（1つの時間刻みは10分）に遡るデータがあり、*steps* 時間刻みごとにサンプリングを行うとすれば、*delay* 時間刻みの気温を予測することは可能か。これらのパラメータには、次の値を使用する。\n",
    "\n",
    "- *lookback* = 720……過去5日分の観測データ\n",
    "- *steps* = 6……観測データは1時間あたり1データ点の割合でサンプリングされる\n",
    "- *delay* = 144……目的値は24時間後の気温\n",
    "\n",
    "そのための準備として、以下の2つの作業を行う必要がある。\n",
    "\n",
    "1. データの前処理を行い、NNに読み込めるフォーマットにする\n",
    "    - データは既に数値なのでベクトル化を行う必要はない。\n",
    "    - ただし、時系列の尺度が異なる。そこで各時系列を個別に正規化し、すべての時系列が同じ尺度の小さい値にする。\n",
    "    \n",
    "2. Python ジェネレータを記述する\n",
    "    - このジェネレータは、float 型から成る現在の配列を受け取り、最近のデータと目的値（将来の気温）から成るバッチを生成する。\n",
    "    - このデータセットはかなり冗長（サンプル N とサンプル N+1 の時間刻みのほとんどは共通）であるため、各サンプルを明示的に確保しておくと無駄になる。\n",
    "    - そこで代わりに、元のデータを使ってサンプルをその場で生成する。"
   ]
  },
  {
   "cell_type": "code",
   "execution_count": 5,
   "metadata": {
    "collapsed": true
   },
   "outputs": [],
   "source": [
    "# データの正規化：訓練データとして使用する部分について、データから各時系列の平均を引き、標準偏差で割る。\n",
    "train_mean = float_data[:200000].mean(axis=0)\n",
    "float_data -= train_mean\n",
    "std = float_data[:200000].std(axis=0)\n",
    "float_data /= std"
   ]
  },
  {
   "cell_type": "code",
   "execution_count": 6,
   "metadata": {},
   "outputs": [],
   "source": [
    "# 時系列サンプルとそれらの目的値を生成するジェネレータ\n",
    "\"\"\"\n",
    "以下のジェネレータが生成するのは、tuple(samples, targets)\n",
    "samples は入力データの一つのバッチであり、 targets はその入力データに対応する目的値（気温）からなる配列である。\n",
    "\"\"\"\n",
    "def generator(data, lookback, delay, min_index, max_index, \n",
    "                         shuffle = False, batch_size = 128, step = 6):\n",
    "    \"\"\"\n",
    "    - data: 元の float 型のデータからなる配列（正規化済み）\n",
    "    - lookback: 入力データの時間刻みをいくつ遡るか\n",
    "    - delay: 目的値の時間刻みをいくつ進めるか\n",
    "    - min_index, max_index: 抽出する時間刻みの上限と下限を表す data 配列のインデックス。\n",
    "      データの一部を検証とテストのためにとっておくのに役立つ。\n",
    "    - shuffle: サンプルをシャッフルするのか、それとも時間の順序で抽出するのか\n",
    "    - batch_size: バッチ1つあたりのサンプル数\n",
    "    - step: データをサンプリングする時の期間（単位は時間刻み）。\n",
    "      データ点を1時間ごとに1つ抽出するために6に設定する。\n",
    "    \"\"\"\n",
    "    if max_index is None:\n",
    "        max_index = len(data) - delay - 1\n",
    "    i = min_index + lookback\n",
    "    while 1:\n",
    "        if shuffle:\n",
    "            rows = np.random.randint(min_index + lookback, \n",
    "                                                          max_index, \n",
    "                                                          size=batch_size)\n",
    "        else:\n",
    "            if i + batch_size >= max_index:\n",
    "                i = min_index + lookback\n",
    "            rows = np.arange(i, min(i + batch_size, max_index))\n",
    "            i += len(rows)\n",
    "\n",
    "        samples = np.zeros((len(rows),\n",
    "                                            lookback // step,\n",
    "                                            data.shape[-1]))\n",
    "        targets = np.zeros((len(rows),))\n",
    "        for j, row in enumerate(rows):\n",
    "            indices = range(rows[j] - lookback, rows[j], step)\n",
    "            samples[j] = data[indices]\n",
    "            targets[j] = data[rows[j] + delay][1]\n",
    "        yield samples, targets"
   ]
  },
  {
   "cell_type": "markdown",
   "metadata": {},
   "source": [
    "次にこの抽象的な generator 関数を利用して、それぞれ訓練、検証、テストに使用する3つのジェネレータをインスタンス化する。これらのジェネレータはそれぞれ、元のデータの時間的に異なる部分を使う。  \n",
    "訓練ジェネレータは最初の20万個の時間刻みを調べる。そして、検証ジェネレータは次の10万個の時間刻みを、テストジェネレータは残りの時間刻みを調べる。"
   ]
  },
  {
   "cell_type": "code",
   "execution_count": 7,
   "metadata": {},
   "outputs": [],
   "source": [
    "# 訓練、検証、テストに使用するジェネレータの準備\n",
    "lookback = 1440\n",
    "step = 6\n",
    "delay = 144\n",
    "batch_size = 128\n",
    "\n",
    "# 訓練ジェネレータ\n",
    "train_gen = generator(float_data,\n",
    "                                        lookback=lookback,\n",
    "                                        delay=delay,\n",
    "                                        min_index=0,\n",
    "                                        max_index=200000,\n",
    "                                        shuffle=True,\n",
    "                                        step=step,\n",
    "                                        batch_size=batch_size)\n",
    "\n",
    "# 検証ジェネレータ\n",
    "val_gen = generator(float_data,\n",
    "                                     lookback=lookback,\n",
    "                                     delay=delay,\n",
    "                                     min_index=200001,\n",
    "                                     max_index=300000,\n",
    "                                     step=step,\n",
    "                                     batch_size=batch_size)\n",
    "\n",
    "# テストジェネレータ\n",
    "test_gen = generator(float_data,\n",
    "                                       lookback=lookback,\n",
    "                                       delay=delay,\n",
    "                                       min_index=300001,\n",
    "                                       max_index=None,\n",
    "                                       step=step,\n",
    "                                       batch_size=batch_size)\n",
    "\n",
    "# 検証データセット全体を調べるために val_gen から抽出する時間刻みの数\n",
    "val_steps = (300000 - 200001 - lookback) // batch_size\n",
    "\n",
    "# テストデータセット全体を調べるために test_gen から抽出する時間刻みの数\n",
    "test_steps = (len(float_data) - 300001 - lookback) // batch_size"
   ]
  },
  {
   "cell_type": "markdown",
   "metadata": {},
   "source": [
    "### 6.3.3 機械学習とは別の、常識的なベースライン\n",
    "\n",
    "より高度な機械学習モデルの有益性を実証するにあたってクリアしなければならないベースラインを設定する必要がある。  \n",
    "この場合、気温の時系列データには連続性が有り、24時間単位の周期性があると想定する。  \n",
    "このため、常識的なアプローチでは、常に、24時間後の気温が現在と同じ気温になると予測する。  \n",
    "MAE を指標として、このアプローチを評価する。\n",
    "\n",
    "- MAE: *np.mean(np.abs(preds - targets))*"
   ]
  },
  {
   "cell_type": "code",
   "execution_count": 8,
   "metadata": {},
   "outputs": [
    {
     "name": "stdout",
     "output_type": "stream",
     "text": [
      "Bseline MAE is 0.2897359729905486\n"
     ]
    }
   ],
   "source": [
    "# 常識的なベースラインの MAE を計算\n",
    "def evaluate_naive_method():\n",
    "    batch_maes = []\n",
    "    k = 0\n",
    "    for step in range(val_steps):\n",
    "        samples, targets = next(val_gen)\n",
    "        preds = samples[:, -1, 1]\n",
    "        mae = np.mean(np.abs(preds - targets))\n",
    "        batch_maes.append(mae)\n",
    "        k += 1\n",
    "    return np.mean(batch_maes)\n",
    "\n",
    "baseline_mae = evaluate_naive_method()\n",
    "print(\"Bseline MAE is\", baseline_mae)"
   ]
  },
  {
   "cell_type": "code",
   "execution_count": 9,
   "metadata": {},
   "outputs": [
    {
     "name": "stdout",
     "output_type": "stream",
     "text": [
      "2.564887434980494\n"
     ]
    }
   ],
   "source": [
    "# MAE を摂氏の誤差に変換\n",
    "celsius_mae = baseline_mae * std[1]\n",
    "print(celsius_mae)"
   ]
  },
  {
   "cell_type": "markdown",
   "metadata": {},
   "source": [
    "### 6.3.4 機械学習の基本的なアプローチ\n",
    "\n",
    "機械学習のアプローチを試す前に、常識的なベースラインを設定してみるのが有益であるのと同様、  \n",
    "RNN などの複雑で計算不可の高い機械学習モデルを調べる際には、その前に、単純で計算不可の低いモデル（小さな全結合ネットワークなど）を試してみると良い。  \n",
    "\n",
    "以下には全結合モデルを示している。  \n",
    "このモデルは、データを平坦化した上で、2つの Dense 層で処理している。  \n",
    "なお、2つ目の Dense 層には活性化関数が指定されていないが、回帰問題ではこれが一般的である。  "
   ]
  },
  {
   "cell_type": "code",
   "execution_count": 11,
   "metadata": {
    "scrolled": true
   },
   "outputs": [
    {
     "name": "stdout",
     "output_type": "stream",
     "text": [
      "Epoch 1/20\n",
      "500/500 [==============================] - 13s 27ms/step - loss: 1.3584 - val_loss: 0.5966\n",
      "Epoch 2/20\n",
      "500/500 [==============================] - 13s 26ms/step - loss: 0.4385 - val_loss: 0.4207\n",
      "Epoch 3/20\n",
      "500/500 [==============================] - 13s 25ms/step - loss: 0.2991 - val_loss: 0.3132\n",
      "Epoch 4/20\n",
      "500/500 [==============================] - 13s 26ms/step - loss: 0.2735 - val_loss: 0.3239\n",
      "Epoch 5/20\n",
      "500/500 [==============================] - 13s 26ms/step - loss: 0.2579 - val_loss: 0.3065\n",
      "Epoch 6/20\n",
      "500/500 [==============================] - 13s 26ms/step - loss: 0.2463 - val_loss: 0.3131\n",
      "Epoch 7/20\n",
      "500/500 [==============================] - 13s 26ms/step - loss: 0.2400 - val_loss: 0.3242\n",
      "Epoch 8/20\n",
      "500/500 [==============================] - 13s 26ms/step - loss: 0.2330 - val_loss: 0.3287\n",
      "Epoch 9/20\n",
      "500/500 [==============================] - 13s 26ms/step - loss: 0.2277 - val_loss: 0.3201\n",
      "Epoch 10/20\n",
      "500/500 [==============================] - 13s 26ms/step - loss: 0.2233 - val_loss: 0.3531\n",
      "Epoch 11/20\n",
      "500/500 [==============================] - 14s 27ms/step - loss: 0.2210 - val_loss: 0.3462\n",
      "Epoch 12/20\n",
      "500/500 [==============================] - 13s 26ms/step - loss: 0.2170 - val_loss: 0.3277\n",
      "Epoch 13/20\n",
      "500/500 [==============================] - 13s 26ms/step - loss: 0.2151 - val_loss: 0.3406\n",
      "Epoch 14/20\n",
      "500/500 [==============================] - 13s 25ms/step - loss: 0.2113 - val_loss: 0.3277\n",
      "Epoch 15/20\n",
      "500/500 [==============================] - 13s 26ms/step - loss: 0.2091 - val_loss: 0.3644\n",
      "Epoch 16/20\n",
      "500/500 [==============================] - 13s 26ms/step - loss: 0.2076 - val_loss: 0.3827\n",
      "Epoch 17/20\n",
      "500/500 [==============================] - 13s 26ms/step - loss: 0.2046 - val_loss: 0.3269\n",
      "Epoch 18/20\n",
      "500/500 [==============================] - 13s 27ms/step - loss: 0.2025 - val_loss: 0.3464\n",
      "Epoch 19/20\n",
      "500/500 [==============================] - 13s 27ms/step - loss: 0.2028 - val_loss: 0.3495\n",
      "Epoch 20/20\n",
      "500/500 [==============================] - 13s 27ms/step - loss: 0.2009 - val_loss: 0.3312\n"
     ]
    }
   ],
   "source": [
    "# 全結合モデルの訓練と評価\n",
    "from keras.models import Sequential\n",
    "from keras import layers\n",
    "from keras.optimizers import RMSprop\n",
    "\n",
    "model = Sequential()\n",
    "model.add(layers.Flatten(input_shape = (lookback // step, \n",
    "                                                                        float_data.shape[-1])))\n",
    "model.add(layers.Dense(32, activation = 'relu'))\n",
    "model.add(layers.Dense(1))\n",
    "\n",
    "model.compile(optimizer = RMSprop(), loss = 'mae')\n",
    "history = model.fit_generator(train_gen,\n",
    "                                                     steps_per_epoch = 500,\n",
    "                                                     epochs = 20,\n",
    "                                                     validation_data = val_gen,\n",
    "                                                     validation_steps = val_steps)"
   ]
  },
  {
   "cell_type": "code",
   "execution_count": 12,
   "metadata": {},
   "outputs": [
    {
     "data": {
      "image/png": "[encoded data removed]",
      "text/plain": [
       "<Figure size 432x288 with 1 Axes>"
      ]
     },
     "metadata": {},
     "output_type": "display_data"
    }
   ],
   "source": [
    "# 結果をプロット\n",
    "import matplotlib.pyplot as plt\n",
    "\n",
    "loss = history.history['loss']\n",
    "val_loss = history.history['val_loss']\n",
    "\n",
    "epochs = range(len(loss))\n",
    "\n",
    "plt.figure()\n",
    "plt.plot(epochs, loss, 'bo', label = 'Training loss')\n",
    "plt.plot(epochs, val_loss, 'b', label = 'Validation loss')\n",
    "plt.title('Training and Validation loss')\n",
    "plt.legend()\n",
    "plt.show()"
   ]
  },
  {
   "cell_type": "markdown",
   "metadata": {},
   "source": [
    "- 検証データの損失値はベースラインを超えることはほぼできていない。  \n",
    "- 機械学習全体の大きな制限として、学習アルゴリズムが特定の単純なモデルを探すようにハードコーディングされていない限り、パラメータの学習では、単純な問題に対する単純な解決策を見つけ出すのに失敗することがある。"
   ]
  },
  {
   "cell_type": "markdown",
   "metadata": {},
   "source": [
    "### 6.3.5 最初のリカレントベースライン\n",
    "\n",
    "- 最初の全結合アプローチはうまくいかなかったが、このアプローチでは、まず時系列データを平坦化することで、入力データから時間の概念を取り除いている。\n",
    "- ここでは代わりに、データをそのままの状態で（シーケンスとして）調べてみることにする。最初のアプローチとは異なり、このモデルはデータ点の時間的な順序を利用するため、そうしたシーケンスデータに適合するはずである。\n",
    "- ここでは、LSTM 層の代わりに、GRU(Gated Recurrent Unit) 層を使用する。GRU 層は、LSTM と同じ原理に基づいているが、少し効率化されているため、LSTM ほど実行コストが掛からない（ただし、LSTM ほど表現力がないことがある）。このような計算コストと表現力のトレードオフは、機械学習にはつきものである。"
   ]
  },
  {
   "cell_type": "code",
   "execution_count": 8,
   "metadata": {
    "scrolled": true
   },
   "outputs": [
    {
     "name": "stderr",
     "output_type": "stream",
     "text": [
      "/Users/takayukiishikawa/anaconda/envs/kaggle/lib/python3.6/site-packages/h5py/__init__.py:36: FutureWarning: Conversion of the second argument of issubdtype from `float` to `np.floating` is deprecated. In future, it will be treated as `np.float64 == np.dtype(float).type`.\n",
      "  from ._conv import register_converters as _register_converters\n",
      "Using TensorFlow backend.\n"
     ]
    },
    {
     "name": "stdout",
     "output_type": "stream",
     "text": [
      "Epoch 1/20\n",
      "500/500 [==============================] - 304s 608ms/step - loss: 0.2997 - val_loss: 0.2727\n",
      "Epoch 2/20\n",
      "500/500 [==============================] - 308s 617ms/step - loss: 0.2871 - val_loss: 0.2677\n",
      "Epoch 3/20\n",
      "500/500 [==============================] - 307s 614ms/step - loss: 0.2804 - val_loss: 0.2673\n",
      "Epoch 4/20\n",
      "500/500 [==============================] - 307s 615ms/step - loss: 0.2759 - val_loss: 0.2679\n",
      "Epoch 5/20\n",
      "500/500 [==============================] - 307s 613ms/step - loss: 0.2700 - val_loss: 0.2676\n",
      "Epoch 6/20\n",
      "500/500 [==============================] - 296s 591ms/step - loss: 0.2651 - val_loss: 0.2659\n",
      "Epoch 7/20\n",
      "500/500 [==============================] - 302s 603ms/step - loss: 0.2612 - val_loss: 0.2757\n",
      "Epoch 8/20\n",
      "500/500 [==============================] - 300s 601ms/step - loss: 0.2551 - val_loss: 0.2689\n",
      "Epoch 9/20\n",
      "500/500 [==============================] - 300s 600ms/step - loss: 0.2516 - val_loss: 0.2765\n",
      "Epoch 10/20\n",
      "500/500 [==============================] - 303s 607ms/step - loss: 0.2473 - val_loss: 0.2778\n",
      "Epoch 11/20\n",
      "500/500 [==============================] - 295s 591ms/step - loss: 0.2418 - val_loss: 0.2810\n",
      "Epoch 12/20\n",
      "500/500 [==============================] - 291s 581ms/step - loss: 0.2393 - val_loss: 0.2816\n",
      "Epoch 13/20\n",
      "500/500 [==============================] - 306s 613ms/step - loss: 0.2349 - val_loss: 0.2842\n",
      "Epoch 14/20\n",
      "500/500 [==============================] - 308s 615ms/step - loss: 0.2314 - val_loss: 0.2880\n",
      "Epoch 15/20\n",
      "500/500 [==============================] - 315s 629ms/step - loss: 0.2291 - val_loss: 0.2893\n",
      "Epoch 16/20\n",
      "500/500 [==============================] - 310s 619ms/step - loss: 0.2259 - val_loss: 0.2949\n",
      "Epoch 17/20\n",
      "500/500 [==============================] - 305s 609ms/step - loss: 0.2222 - val_loss: 0.2929\n",
      "Epoch 18/20\n",
      "500/500 [==============================] - 313s 626ms/step - loss: 0.2180 - val_loss: 0.2996\n",
      "Epoch 19/20\n",
      "500/500 [==============================] - 321s 642ms/step - loss: 0.2156 - val_loss: 0.2975\n",
      "Epoch 20/20\n",
      "500/500 [==============================] - 316s 632ms/step - loss: 0.2134 - val_loss: 0.3026\n"
     ]
    }
   ],
   "source": [
    "# GRU ベースのモデルの訓練と評価\n",
    "from keras.models import Sequential\n",
    "from keras import layers\n",
    "from keras.optimizers import RMSprop\n",
    "\n",
    "model = Sequential()\n",
    "model.add(layers.GRU(32, input_shape=(None, float_data.shape[-1])))\n",
    "model.add(layers.Dense(1))\n",
    "\n",
    "model.compile(optimizer=RMSprop(), loss='mae')\n",
    "history = model.fit_generator(train_gen,\n",
    "                                                     steps_per_epoch=500,\n",
    "                                                     epochs=20,\n",
    "                                                     validation_data=val_gen,\n",
    "                                                     validation_steps=val_steps)"
   ]
  },
  {
   "cell_type": "code",
   "execution_count": 9,
   "metadata": {
    "collapsed": true
   },
   "outputs": [],
   "source": [
    "# 結果をプロット\n",
    "import matplotlib.pyplot as plt\n",
    "\n",
    "def plotting_results(history):\n",
    "    loss = history.history['loss']\n",
    "    val_loss = history.history['val_loss']\n",
    "\n",
    "    epochs = range(len(loss))\n",
    "\n",
    "    plt.figure()\n",
    "    plt.plot(epochs, loss, 'bo', label = 'Training loss')\n",
    "    plt.plot(epochs, val_loss, 'b', label = 'Validation loss')\n",
    "    plt.title('Training and Validation loss')\n",
    "    plt.legend()\n",
    "    plt.show()"
   ]
  },
  {
   "cell_type": "code",
   "execution_count": 10,
   "metadata": {},
   "outputs": [
    {
     "data": {
      "image/png": "[encoded data removed]",
      "text/plain": [
       "<Figure size 432x288 with 1 Axes>"
      ]
     },
     "metadata": {},
     "output_type": "display_data"
    }
   ],
   "source": [
    "plotting_results(history)"
   ]
  },
  {
   "cell_type": "markdown",
   "metadata": {},
   "source": [
    "- 結果をプロットすると、常識的なベースラインを大きくクリアしていることがわかる。\n",
    "- これによって、機械学習の価値が実証されただけでなく、この種のタスクではシーケンスを平坦化する全結合ネットワークよりも RNN の方が圧倒的に優れていることも実証できている。"
   ]
  },
  {
   "cell_type": "markdown",
   "metadata": {},
   "source": [
    "### 6.3.6 リカレントドロップアウトを使って過学習を抑制する\n",
    "\n",
    "- 訓練データと検証データでの損失曲線から、このモデルが過学習に陥っていることは明らかである。この現象に対処するための従来の手法はドロップアウトである。ドロップアウトでは、層に供給される訓練データの偶発的な相関関係を破壊するために、層の入力ユニットをランダムに取り除く。しかし、RNN にドロップアウトを正しく適用するのは簡単ではない。\n",
    "- RNN でドロップアウトを使用するための正しい方法は、時間刻みごとにドロップアウトマスクをランダムに変化させるのではなく、すべての時間刻みで同じドロップアウトマスクを適用することで、ドロップされるユニットのパターンを同じにすべきである。それだけでなく、GRU や LSTM といった層のリカレントゲートによって形成される表現を正則化するには、時間的に一定のドロップアウトマスクを層の内部のリカレント活性化に適用する必要がある。（リカレントドロップアウトマスク）\n",
    "- すべての時間刻みで同じドロップアウトマスクを使用すると、ネットワークが時間の流れに沿って学習誤差を正しく伝播できるようになる。時間的にランダムなドロップアウトマスクは、この誤差信号を破壊してしまうため、学習プロセスにとって有害である。\n",
    "\n",
    "<p>\n",
    "\n",
    "- Keras のすべてのリカレント層には、ドロップアウト関連のパラメータが2つの定義される。1つは　dropout であり、その層の入力ユニットのドロップアウト率を　float で指定する。ドロップアウトとリカレントドロップアウトを GRU 層に追加して、過学習にどのような影響を与えるのか確認してみる。ドロップアウトを使ってネットワークを正則化する場合は、常に完全に収束するんにより時間がかかるようになる。このため、ネットワークを訓練する時のエポック数を2倍にする。"
   ]
  },
  {
   "cell_type": "code",
   "execution_count": null,
   "metadata": {
    "scrolled": true
   },
   "outputs": [
    {
     "name": "stdout",
     "output_type": "stream",
     "text": [
      "Epoch 1/40\n",
      "500/500 [==============================] - 352s 705ms/step - loss: 0.3410 - val_loss: 0.2786\n",
      "Epoch 2/40\n",
      "500/500 [==============================] - 349s 698ms/step - loss: 0.3155 - val_loss: 0.2788\n",
      "Epoch 3/40\n",
      "500/500 [==============================] - 349s 698ms/step - loss: 0.3078 - val_loss: 0.2706\n",
      "Epoch 4/40\n",
      "500/500 [==============================] - 350s 699ms/step - loss: 0.3045 - val_loss: 0.2718\n",
      "Epoch 5/40\n",
      "500/500 [==============================] - 350s 700ms/step - loss: 0.3018 - val_loss: 0.2713\n",
      "Epoch 6/40\n",
      "500/500 [==============================] - 350s 700ms/step - loss: 0.2979 - val_loss: 0.2692\n",
      "Epoch 7/40\n",
      "500/500 [==============================] - 349s 697ms/step - loss: 0.2975 - val_loss: 0.2711\n",
      "Epoch 8/40\n",
      "500/500 [==============================] - 349s 698ms/step - loss: 0.2961 - val_loss: 0.2713\n",
      "Epoch 9/40\n",
      "500/500 [==============================] - 348s 695ms/step - loss: 0.2946 - val_loss: 0.2667\n",
      "Epoch 10/40\n",
      "500/500 [==============================] - 349s 697ms/step - loss: 0.2942 - val_loss: 0.2664\n",
      "Epoch 11/40\n",
      "500/500 [==============================] - 355s 710ms/step - loss: 0.2910 - val_loss: 0.2684\n",
      "Epoch 12/40\n",
      "500/500 [==============================] - 359s 718ms/step - loss: 0.2901 - val_loss: 0.2665\n",
      "Epoch 13/40\n",
      "500/500 [==============================] - 360s 720ms/step - loss: 0.2897 - val_loss: 0.2686\n",
      "Epoch 14/40\n",
      "500/500 [==============================] - 358s 716ms/step - loss: 0.2895 - val_loss: 0.2697\n",
      "Epoch 15/40\n",
      "500/500 [==============================] - 360s 719ms/step - loss: 0.2875 - val_loss: 0.2720\n",
      "Epoch 16/40\n",
      "500/500 [==============================] - 355s 710ms/step - loss: 0.2849 - val_loss: 0.2713\n",
      "Epoch 17/40\n",
      "500/500 [==============================] - 363s 725ms/step - loss: 0.2826 - val_loss: 0.2751\n",
      "Epoch 18/40\n",
      "500/500 [==============================] - 359s 718ms/step - loss: 0.2828 - val_loss: 0.2689\n",
      "Epoch 19/40\n",
      "500/500 [==============================] - 356s 712ms/step - loss: 0.2825 - val_loss: 0.2744\n",
      "Epoch 20/40\n",
      "500/500 [==============================] - 371s 743ms/step - loss: 0.2814 - val_loss: 0.2742\n",
      "Epoch 21/40\n",
      "500/500 [==============================] - 351s 703ms/step - loss: 0.2804 - val_loss: 0.2676\n",
      "Epoch 22/40\n",
      "500/500 [==============================] - 350s 701ms/step - loss: 0.2792 - val_loss: 0.2685\n",
      "Epoch 23/40\n",
      "500/500 [==============================] - 361s 721ms/step - loss: 0.2790 - val_loss: 0.2728\n",
      "Epoch 24/40\n",
      "500/500 [==============================] - 352s 704ms/step - loss: 0.2779 - val_loss: 0.2692\n",
      "Epoch 25/40\n",
      "500/500 [==============================] - 348s 696ms/step - loss: 0.2789 - val_loss: 0.2683\n",
      "Epoch 26/40\n",
      "500/500 [==============================] - 351s 702ms/step - loss: 0.2783 - val_loss: 0.2684\n",
      "Epoch 27/40\n",
      "500/500 [==============================] - 356s 713ms/step - loss: 0.2765 - val_loss: 0.2768\n",
      "Epoch 28/40\n",
      "500/500 [==============================] - 355s 710ms/step - loss: 0.2765 - val_loss: 0.2698\n",
      "Epoch 29/40\n",
      "500/500 [==============================] - 349s 699ms/step - loss: 0.2764 - val_loss: 0.2682\n",
      "Epoch 30/40\n",
      "500/500 [==============================] - 346s 693ms/step - loss: 0.2744 - val_loss: 0.2739\n",
      "Epoch 31/40\n",
      "500/500 [==============================] - 364s 727ms/step - loss: 0.2752 - val_loss: 0.2785\n",
      "Epoch 32/40\n",
      "500/500 [==============================] - 345s 691ms/step - loss: 0.2742 - val_loss: 0.2693\n",
      "Epoch 33/40\n",
      "500/500 [==============================] - 350s 701ms/step - loss: 0.2743 - val_loss: 0.2702\n",
      "Epoch 34/40\n",
      "500/500 [==============================] - 344s 689ms/step - loss: 0.2722 - val_loss: 0.2808\n",
      "Epoch 35/40\n",
      "500/500 [==============================] - 342s 684ms/step - loss: 0.2733 - val_loss: 0.2709\n",
      "Epoch 36/40\n",
      "500/500 [==============================] - 344s 687ms/step - loss: 0.2720 - val_loss: 0.2701\n",
      "Epoch 37/40\n",
      "500/500 [==============================] - 343s 685ms/step - loss: 0.2717 - val_loss: 0.2714\n",
      "Epoch 38/40\n",
      "500/500 [==============================] - 352s 704ms/step - loss: 0.2733 - val_loss: 0.2773\n",
      "Epoch 39/40\n",
      "500/500 [==============================] - 349s 698ms/step - loss: 0.2714 - val_loss: 0.2749\n",
      "Epoch 40/40\n",
      "500/500 [==============================] - 359s 718ms/step - loss: 0.2707 - val_loss: 0.2751\n"
     ]
    }
   ],
   "source": [
    "# ドロップアウトで正則化した GRU ベースのモデルの訓練と評価\n",
    "from keras.models import Sequential\n",
    "from keras import layers\n",
    "from keras.optimizers import RMSprop\n",
    "\n",
    "model = Sequential()\n",
    "model.add(layers.GRU(32,\n",
    "                     dropout=0.2,\n",
    "                     recurrent_dropout=0.2,\n",
    "                     input_shape=(None, float_data.shape[-1])))\n",
    "model.add(layers.Dense(1))\n",
    "\n",
    "model.compile(optimizer=RMSprop(), loss='mae')\n",
    "history = model.fit_generator(train_gen,\n",
    "                                                     steps_per_epoch=500,\n",
    "                                                     epochs=40,\n",
    "                                                     validation_data=val_gen,\n",
    "                                                     validation_steps=val_steps)"
   ]
  },
  {
   "cell_type": "code",
   "execution_count": null,
   "metadata": {},
   "outputs": [
    {
     "data": {
      "image/png": "[encoded data removed]",
      "text/plain": [
       "<Figure size 432x288 with 1 Axes>"
      ]
     },
     "metadata": {},
     "output_type": "display_data"
    }
   ],
   "source": [
    "plotting_results(history)"
   ]
  },
  {
   "cell_type": "markdown",
   "metadata": {},
   "source": [
    "- 結果をプロットすると、最初の30エポックではもう過学習は発生していない。評価のスコアはこれまでよりも安定しているものの、ベストスコアは以前ほど低くない。"
   ]
  },
  {
   "cell_type": "markdown",
   "metadata": {},
   "source": [
    "### 6.3.7 リカレント層のスタッキング\n",
    "\n",
    "- 過学習に陥ることはなくなったが、性能にボトルネックがあるため、ネットワークのキャパシティを増やすことを検討すべきである。\n",
    "- 一般に、ネットワークのキャパシティを増やすには、層のユニットの数を増やすか、層をさらに追加する。リカレント層のスタッキングは、より強力な RNN を構築するための典型的な方法である。Keras で複数のリカレント層をスタックとして積み上げるには、すべての中間層が（最後の時間刻みの出力ではなく）完全な出力シーケンス（3次元テンソル）を返す必要がある。これを可能にするには、*return_sequences = True* を指定する。"
   ]
  },
  {
   "cell_type": "code",
   "execution_count": null,
   "metadata": {
    "scrolled": true
   },
   "outputs": [
    {
     "name": "stdout",
     "output_type": "stream",
     "text": [
      "Epoch 1/40\n",
      "500/500 [==============================] - 716s 1s/step - loss: 0.3340 - val_loss: 0.2760\n",
      "Epoch 2/40\n",
      "500/500 [==============================] - 710s 1s/step - loss: 0.3133 - val_loss: 0.2752\n",
      "Epoch 3/40\n",
      "500/500 [==============================] - 715s 1s/step - loss: 0.3072 - val_loss: 0.2711\n",
      "Epoch 4/40\n",
      "500/500 [==============================] - 706s 1s/step - loss: 0.3015 - val_loss: 0.2718\n",
      "Epoch 5/40\n",
      "500/500 [==============================] - 709s 1s/step - loss: 0.2990 - val_loss: 0.2681\n",
      "Epoch 6/40\n",
      "500/500 [==============================] - 727s 1s/step - loss: 0.2954 - val_loss: 0.2660\n",
      "Epoch 7/40\n",
      "500/500 [==============================] - 734s 1s/step - loss: 0.2914 - val_loss: 0.2662\n",
      "Epoch 8/40\n",
      "500/500 [==============================] - 734s 1s/step - loss: 0.2880 - val_loss: 0.2811\n",
      "Epoch 9/40\n",
      "500/500 [==============================] - 736s 1s/step - loss: 0.2860 - val_loss: 0.2673\n",
      "Epoch 10/40\n",
      "500/500 [==============================] - 734s 1s/step - loss: 0.2839 - val_loss: 0.2675\n",
      "Epoch 11/40\n",
      "500/500 [==============================] - 736s 1s/step - loss: 0.2825 - val_loss: 0.2719\n",
      "Epoch 12/40\n",
      "500/500 [==============================] - 734s 1s/step - loss: 0.2781 - val_loss: 0.2705\n",
      "Epoch 13/40\n",
      "500/500 [==============================] - 736s 1s/step - loss: 0.2776 - val_loss: 0.2688\n",
      "Epoch 14/40\n",
      "500/500 [==============================] - 736s 1s/step - loss: 0.2772 - val_loss: 0.2748\n",
      "Epoch 15/40\n",
      "500/500 [==============================] - 736s 1s/step - loss: 0.2762 - val_loss: 0.2751\n",
      "Epoch 16/40\n",
      "500/500 [==============================] - 721s 1s/step - loss: 0.2737 - val_loss: 0.2706\n",
      "Epoch 17/40\n",
      "500/500 [==============================] - 722s 1s/step - loss: 0.2722 - val_loss: 0.2697\n",
      "Epoch 18/40\n",
      "500/500 [==============================] - 721s 1s/step - loss: 0.2720 - val_loss: 0.2677\n",
      "Epoch 19/40\n",
      "500/500 [==============================] - 721s 1s/step - loss: 0.2700 - val_loss: 0.2707\n",
      "Epoch 20/40\n",
      "500/500 [==============================] - 720s 1s/step - loss: 0.2681 - val_loss: 0.2706\n",
      "Epoch 21/40\n",
      "500/500 [==============================] - 719s 1s/step - loss: 0.2686 - val_loss: 0.2725\n",
      "Epoch 22/40\n",
      "500/500 [==============================] - 720s 1s/step - loss: 0.2660 - val_loss: 0.2726\n",
      "Epoch 23/40\n",
      "500/500 [==============================] - 720s 1s/step - loss: 0.2653 - val_loss: 0.2757\n",
      "Epoch 24/40\n",
      "500/500 [==============================] - 721s 1s/step - loss: 0.2635 - val_loss: 0.2771\n",
      "Epoch 25/40\n",
      "500/500 [==============================] - 720s 1s/step - loss: 0.2662 - val_loss: 0.2709\n",
      "Epoch 26/40\n",
      "500/500 [==============================] - 721s 1s/step - loss: 0.2628 - val_loss: 0.2745\n",
      "Epoch 27/40\n",
      "500/500 [==============================] - 720s 1s/step - loss: 0.2628 - val_loss: 0.2704\n",
      "Epoch 28/40\n",
      "500/500 [==============================] - 720s 1s/step - loss: 0.2627 - val_loss: 0.2741\n",
      "Epoch 29/40\n",
      "500/500 [==============================] - 722s 1s/step - loss: 0.2614 - val_loss: 0.2704\n",
      "Epoch 30/40\n",
      "500/500 [==============================] - 721s 1s/step - loss: 0.2582 - val_loss: 0.2739\n",
      "Epoch 31/40\n",
      "500/500 [==============================] - 721s 1s/step - loss: 0.2590 - val_loss: 0.2712\n",
      "Epoch 32/40\n",
      "500/500 [==============================] - 722s 1s/step - loss: 0.2590 - val_loss: 0.2728\n",
      "Epoch 33/40\n",
      "500/500 [==============================] - 728s 1s/step - loss: 0.2566 - val_loss: 0.2765\n",
      "Epoch 34/40\n",
      "500/500 [==============================] - 719s 1s/step - loss: 0.2566 - val_loss: 0.2770\n",
      "Epoch 35/40\n",
      "500/500 [==============================] - 722s 1s/step - loss: 0.2559 - val_loss: 0.2692\n",
      "Epoch 36/40\n",
      "500/500 [==============================] - 722s 1s/step - loss: 0.2557 - val_loss: 0.2746\n",
      "Epoch 37/40\n",
      "500/500 [==============================] - 751s 2s/step - loss: 0.2539 - val_loss: 0.2708\n",
      "Epoch 38/40\n",
      "500/500 [==============================] - 782s 2s/step - loss: 0.2546 - val_loss: 0.2699\n",
      "Epoch 39/40\n",
      "500/500 [==============================] - 778s 2s/step - loss: 0.2518 - val_loss: 0.2756\n",
      "Epoch 40/40\n",
      "500/500 [==============================] - 825s 2s/step - loss: 0.2509 - val_loss: 0.2746\n"
     ]
    }
   ],
   "source": [
    "# ドロップアウトで正則化された、スタッキング GRU モデルでの訓練と評価\n",
    "from keras.models import Sequential\n",
    "from keras import layers\n",
    "from keras.optimizers import RMSprop\n",
    "\n",
    "model = Sequential()\n",
    "model.add(layers.GRU(32,\n",
    "                     dropout=0.1,\n",
    "                     recurrent_dropout=0.5,\n",
    "                     return_sequences=True,\n",
    "                     input_shape=(None, float_data.shape[-1])))\n",
    "model.add(layers.GRU(64,\n",
    "                     activation='relu',\n",
    "                     dropout=0.1,\n",
    "                     recurrent_dropout=0.5))\n",
    "model.add(layers.Dense(1))\n",
    "\n",
    "model.compile(optimizer=RMSprop(), loss='mae')\n",
    "history = model.fit_generator(train_gen,\n",
    "                              steps_per_epoch=500,\n",
    "                              epochs=40,\n",
    "                              validation_data=val_gen,\n",
    "                              validation_steps=val_steps)"
   ]
  },
  {
   "cell_type": "code",
   "execution_count": null,
   "metadata": {},
   "outputs": [
    {
     "data": {
      "image/png": "[encoded data removed]",
      "text/plain": [
       "<Figure size 432x288 with 1 Axes>"
      ]
     },
     "metadata": {},
     "output_type": "display_data"
    }
   ],
   "source": [
    "plotting_results(history)"
   ]
  },
  {
   "cell_type": "markdown",
   "metadata": {},
   "source": [
    "- 層を追加したことで結果は少し改善したが、それほど大きな改善ではない。このことから次の結論が導き出される。\n",
    "    - まだ過学習はそれほどひどくないため、検証データでの損失値の改善を目指して、層のサイズを大きくしても安全である事が考えられる。ただし、その計算コストは無視できるほど小さなものではない。\n",
    "    - 層を追加しても大幅な改善には至らなかったため、このポイントをネットワークキャパシティを増やすことによる収穫逓減と見なすこともできる。"
   ]
  },
  {
   "cell_type": "markdown",
   "metadata": {},
   "source": [
    "---"
   ]
  },
  {
   "cell_type": "markdown",
   "metadata": {},
   "source": [
    "### 6.3.8 双方向の RNN\n",
    "\n",
    "- 双方向 RNN(bidirectional RNN)は一般的な RNN の一つであり、特定のタスクにおいて通常の RNN よりもよい性能が得られる。\n",
    "- この RNN は自然言語処理(NLP)で効果があることが多く、よく使用される。\n",
    "\n",
    "- RNN の特徴は、順序（時間）に依存することである。つまり、入力シーケンスの時間刻みを順番に処理する特徴が RNN にある。そして、それらの時間刻みをシャッフルしたり逆の順序にしたりすると、RNN がシーケンスから抽出する表現がすっかり変わってしまうことがある。\n",
    "- 双方向 RNN は、RNN の順序に敏感な性質を利用する。双方向 RNN は、GRU や LSTM など、2つの標準的な RNN 層で構成される。これらの層はそれぞれ入力シーケンスを一方向で（時間の古い順及び新しい順に）処理し、続いてそれぞれの表現をマージする。シーケンスを双方向で処理することにより、双方向 RNN は一方向の RNN では見落とされるかもしれないパターンを補足することができる。\n",
    "\n",
    "- 注目すべき点は、RNN 層がシーケンスを時間の順序で（時間刻みの古いものから順に）処理していることに論理的な必然性が合ったとは限らないことである。仮に、入力シーケンスを新しい時間刻みから順に処理していたとしても、それらの RNN の性能は十分なものだったかを検討するのが良い（6.3.2 の generator 関数の最後の行を ```yield sample[:, ::-1, :]. target``` に置き換える）。\n",
    "- 結果としては、この GRU の性能はかなり悪く、常識的なベースラインすらクリアできていない。つまり、RNN を成功させるには、想定の通り、時間の順序で処理を行うことが重要である。GRU そうは一般に（遠い過去のことよりも）最近のことを覚えるほうが得意である。そして、当然ながら、説明変数として過去のデータ点よりも最近のデータ点のほうが重要である。\n",
    "- しかし、個々で重要となるのは、このことが NLP といった他の問題にも当てはまるわけではないということである。直感的にわかるように、文章を解釈するときの単語の重要度は、通常は文章内での位置に依存しない。"
   ]
  },
  {
   "cell_type": "code",
   "execution_count": null,
   "metadata": {
    "scrolled": true
   },
   "outputs": [
    {
     "name": "stdout",
     "output_type": "stream",
     "text": [
      "Downloading data from https://s3.amazonaws.com/text-datasets/imdb.npz\n",
      "17465344/17464789 [==============================] - 8s 0us/step\n",
      "Train on 20000 samples, validate on 5000 samples\n",
      "Epoch 1/10\n",
      "20000/20000 [==============================] - 263s 13ms/step - loss: 0.4837 - acc: 0.7704 - val_loss: 0.3907 - val_acc: 0.8390\n",
      "Epoch 2/10\n",
      "20000/20000 [==============================] - 226s 11ms/step - loss: 0.3088 - acc: 0.8821 - val_loss: 0.3099 - val_acc: 0.8818\n",
      "Epoch 3/10\n",
      "20000/20000 [==============================] - 221s 11ms/step - loss: 0.2575 - acc: 0.9054 - val_loss: 0.3105 - val_acc: 0.8798\n",
      "Epoch 4/10\n",
      "20000/20000 [==============================] - 220s 11ms/step - loss: 0.2138 - acc: 0.9243 - val_loss: 0.3901 - val_acc: 0.8704\n",
      "Epoch 5/10\n",
      "20000/20000 [==============================] - 236s 12ms/step - loss: 0.1911 - acc: 0.9345 - val_loss: 0.4753 - val_acc: 0.8124\n",
      "Epoch 6/10\n",
      "20000/20000 [==============================] - 220s 11ms/step - loss: 0.1738 - acc: 0.9396 - val_loss: 0.3672 - val_acc: 0.8770\n",
      "Epoch 7/10\n",
      "20000/20000 [==============================] - 224s 11ms/step - loss: 0.1596 - acc: 0.9451 - val_loss: 0.4088 - val_acc: 0.8736\n",
      "Epoch 8/10\n",
      "20000/20000 [==============================] - 220s 11ms/step - loss: 0.1505 - acc: 0.9515 - val_loss: 0.3698 - val_acc: 0.8428\n",
      "Epoch 9/10\n",
      "20000/20000 [==============================] - 229s 11ms/step - loss: 0.1351 - acc: 0.9551 - val_loss: 0.4198 - val_acc: 0.8706\n",
      "Epoch 10/10\n",
      "20000/20000 [==============================] - 233s 12ms/step - loss: 0.1223 - acc: 0.9593 - val_loss: 0.5574 - val_acc: 0.8320\n"
     ]
    }
   ],
   "source": [
    "# 逆向きのシーケンスを用いた LSTM での訓練と評価\n",
    "from keras.datasets import imdb\n",
    "from keras.preprocessing import sequence\n",
    "from keras import layers\n",
    "from keras.models import Sequential\n",
    "\n",
    "max_features = 10000\n",
    "maxlen = 500\n",
    "\n",
    "(x_train, y_train), (x_test, y_test) = imdb.load_data(\n",
    "    num_words=max_features)\n",
    "\n",
    "x_train = [x[::-1] for x in x_train]\n",
    "x_test = [x[::-1] for x in x_test]\n",
    "\n",
    "x_train = sequence.pad_sequences(x_train, maxlen=maxlen)\n",
    "x_test = sequence.pad_sequences(x_test, maxlen=maxlen)\n",
    "\n",
    "model = Sequential()\n",
    "model.add(layers.Embedding(max_features, 128))\n",
    "model.add(layers.LSTM(32))\n",
    "model.add(layers.Dense(1, activation='sigmoid'))\n",
    "\n",
    "model.compile(optimizer='rmsprop',\n",
    "                           loss='binary_crossentropy',\n",
    "                           metrics=['acc'])\n",
    "history = model.fit(x_train, y_train,\n",
    "                                 epochs=10,\n",
    "                                 batch_size=128,\n",
    "                                 validation_split=0.2)"
   ]
  },
  {
   "cell_type": "code",
   "execution_count": null,
   "metadata": {},
   "outputs": [
    {
     "data": {
      "image/png": "[encoded data removed]",
      "text/plain": [
       "<Figure size 432x288 with 1 Axes>"
      ]
     },
     "metadata": {},
     "output_type": "display_data"
    }
   ],
   "source": [
    "plotting_results(history)"
   ]
  },
  {
   "cell_type": "markdown",
   "metadata": {},
   "source": [
    "- この場合は、時間の順序で処理を行う LSTM にほぼ匹敵する性能が得られる。\n",
    "    - 特筆すべきは、こうしたテキストのデータセットでは、時間の順序での処理と逆の順序での処理とで性能がほぼ同じであることである。\n",
    "    - このことから、「単語の順序は言語を理解するにあたってたしかに重要であるものの、どちらの順序を使用するかはそれほど重要ではない」という仮説が裏付けられる。\n",
    "    - 重要なのは、逆向きのシーケンスで訓練された RNN が、元のシーケンスで訓練された RNN とは異なる表現を学習することである。\n",
    "    - アンサンブル(ensembling)の効果により、タスクにおける性能の向上に役立つ可能性がある。\n",
    "    \n",
    "- Keras で双方向 RNN をインスタンス化するには Bidirectional 層を使用する。\n",
    "    - Bidirectional 層は、最初の引数としてリカレント層のインスタンスを受け取る。Bidirectional 層は、このリカレント層の2つ目のインスタンスを新たに作成する。そして、入力シーケンスを時間の順序で処理するために一方のインスタンスを使用し、入力シーケンスの逆順序で処理するためにもう一方のインスタンスを使用する。"
   ]
  },
  {
   "cell_type": "code",
   "execution_count": null,
   "metadata": {},
   "outputs": [],
   "source": [
    "# LSTM ベースの双方向 RNN の訓練と評価（双方向 RNN を IMDb の感情タスクで試してみる）\n",
    "model = Sequential()\n",
    "model.add(layers.Embedding(max_features, 32))\n",
    "model.add(layers.Bidirectional(layers.LSTM(32)))\n",
    "model.add(layers.Dense(1, activation='sigmoid'))\n",
    "\n",
    "model.compile(optimizer='rmsprop',\n",
    "              loss='binary_crossentropy',\n",
    "              metrics=['acc'])\n",
    "history = model.fit(x_train, y_train,\n",
    "                    epochs=10, batch_size=128, validation_split=0.2)"
   ]
  },
  {
   "cell_type": "markdown",
   "metadata": {},
   "source": [
    "- 検証データでの正解率は 89% 前後であり、前節で試した標準的な LSTM 層の性能を少し上回っている。\n",
    "- また、双方向 RNN モデルは、Bidirectional 層のパラメータ数が通常の LSTM 層の2倍のため、過学習に陥りやすい。\n",
    "    - そのため、このタスクでは双方向アプローチの性能は正則化によって大幅に改善される可能性がある。"
   ]
  },
  {
   "cell_type": "markdown",
   "metadata": {},
   "source": [
    "### 6.3.9 さらに先に進むために"
   ]
  },
  {
   "cell_type": "code",
   "execution_count": null,
   "metadata": {
    "collapsed": true
   },
   "outputs": [],
   "source": []
  },
  {
   "cell_type": "markdown",
   "metadata": {},
   "source": [
    "### 6.3.10 まとめ"
   ]
  },
  {
   "cell_type": "code",
   "execution_count": null,
   "metadata": {
    "collapsed": true
   },
   "outputs": [],
   "source": []
  }
 ],
 "metadata": {
  "kernelspec": {
   "display_name": "Python 3",
   "language": "python",
   "name": "python3"
  },
  "language_info": {
   "codemirror_mode": {
    "name": "ipython",
    "version": 3
   },
   "file_extension": ".py",
   "mimetype": "text/x-python",
   "name": "python",
   "nbconvert_exporter": "python",
   "pygments_lexer": "ipython3",
   "version": "3.6.2"
  }
 },
 "nbformat": 4,
 "nbformat_minor": 2
}
